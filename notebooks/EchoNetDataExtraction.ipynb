{
 "cells": [
  {
   "cell_type": "code",
   "execution_count": 4,
   "id": "661d4f53",
   "metadata": {},
   "outputs": [
    {
     "name": "stdout",
     "output_type": "stream",
     "text": [
      "The autoreload extension is already loaded. To reload it, use:\n",
      "  %reload_ext autoreload\n"
     ]
    }
   ],
   "source": [
    "import numpy as np\n",
    "import matplotlib.pyplot as plt\n",
    "import pandas as pd\n",
    "from PIL import Image\n",
    "from scipy.spatial import distance\n",
    "import os\n",
    "\n",
    "\n",
    "%matplotlib inline\n",
    "%load_ext autoreload\n",
    "%autoreload 2"
   ]
  },
  {
   "cell_type": "code",
   "execution_count": 2,
   "id": "3533dbcf",
   "metadata": {},
   "outputs": [],
   "source": [
    "import sys\n",
    "sys.path.insert(0, \"C:\\\\Dev\\\\ContourDetectionGCN\\\\gcn_ultrasound_segmentation\")"
   ]
  },
  {
   "cell_type": "code",
   "execution_count": 6,
   "id": "0db1d2a1",
   "metadata": {},
   "outputs": [],
   "source": [
    "from data.data_transformers import LeftVentricleUnorderedContour, echonet_trace_to_mask"
   ]
  },
  {
   "cell_type": "code",
   "execution_count": 5,
   "id": "efc9982a",
   "metadata": {},
   "outputs": [
    {
     "data": {
      "text/html": [
       "<div>\n",
       "<style scoped>\n",
       "    .dataframe tbody tr th:only-of-type {\n",
       "        vertical-align: middle;\n",
       "    }\n",
       "\n",
       "    .dataframe tbody tr th {\n",
       "        vertical-align: top;\n",
       "    }\n",
       "\n",
       "    .dataframe thead th {\n",
       "        text-align: right;\n",
       "    }\n",
       "</style>\n",
       "<table border=\"1\" class=\"dataframe\">\n",
       "  <thead>\n",
       "    <tr style=\"text-align: right;\">\n",
       "      <th></th>\n",
       "      <th>FileName</th>\n",
       "      <th>X1</th>\n",
       "      <th>Y1</th>\n",
       "      <th>X2</th>\n",
       "      <th>Y2</th>\n",
       "      <th>Frame</th>\n",
       "    </tr>\n",
       "  </thead>\n",
       "  <tbody>\n",
       "    <tr>\n",
       "      <th>0</th>\n",
       "      <td>0X100009310A3BD7FC</td>\n",
       "      <td>51.260417</td>\n",
       "      <td>15.348958</td>\n",
       "      <td>64.932292</td>\n",
       "      <td>69.125000</td>\n",
       "      <td>46</td>\n",
       "    </tr>\n",
       "    <tr>\n",
       "      <th>1</th>\n",
       "      <td>0X100009310A3BD7FC</td>\n",
       "      <td>50.037611</td>\n",
       "      <td>17.167841</td>\n",
       "      <td>53.367222</td>\n",
       "      <td>16.321330</td>\n",
       "      <td>46</td>\n",
       "    </tr>\n",
       "    <tr>\n",
       "      <th>2</th>\n",
       "      <td>0X100009310A3BD7FC</td>\n",
       "      <td>49.157378</td>\n",
       "      <td>20.407629</td>\n",
       "      <td>57.090549</td>\n",
       "      <td>18.390722</td>\n",
       "      <td>46</td>\n",
       "    </tr>\n",
       "    <tr>\n",
       "      <th>3</th>\n",
       "      <td>0X100009310A3BD7FC</td>\n",
       "      <td>48.538173</td>\n",
       "      <td>23.581055</td>\n",
       "      <td>59.997339</td>\n",
       "      <td>20.667707</td>\n",
       "      <td>46</td>\n",
       "    </tr>\n",
       "    <tr>\n",
       "      <th>4</th>\n",
       "      <td>0X100009310A3BD7FC</td>\n",
       "      <td>47.918968</td>\n",
       "      <td>26.754480</td>\n",
       "      <td>62.904129</td>\n",
       "      <td>22.944693</td>\n",
       "      <td>46</td>\n",
       "    </tr>\n",
       "  </tbody>\n",
       "</table>\n",
       "</div>"
      ],
      "text/plain": [
       "             FileName         X1         Y1         X2         Y2  Frame\n",
       "0  0X100009310A3BD7FC  51.260417  15.348958  64.932292  69.125000     46\n",
       "1  0X100009310A3BD7FC  50.037611  17.167841  53.367222  16.321330     46\n",
       "2  0X100009310A3BD7FC  49.157378  20.407629  57.090549  18.390722     46\n",
       "3  0X100009310A3BD7FC  48.538173  23.581055  59.997339  20.667707     46\n",
       "4  0X100009310A3BD7FC  47.918968  26.754480  62.904129  22.944693     46"
      ]
     },
     "execution_count": 5,
     "metadata": {},
     "output_type": "execute_result"
    }
   ],
   "source": [
    "echonet_path = r\"C:\\Data\\DataGeneration\\TestingDatasets\\EchoNet-Dynamic\"\n",
    "echonet_pts = pd.read_excel(os.path.join(echonet_path, \"VolumeTracings.xlsx\"))\n",
    "echonet_pts.head()\n"
   ]
  },
  {
   "cell_type": "markdown",
   "id": "04c6e5dc",
   "metadata": {},
   "source": [
    "## Test out class for conversion\n",
    "\n",
    "Some notes:\n",
    "- I found out the best way is to first convert the echonet points to a binary mask and then convert the mask to a contour. There may be another way, but the echonet point ordering throws it off. The LeftVentricleUnorderedContour class can be initialized with either a mask or a contour so it is quite possible to play around with this if you see a better way.\n",
    "- When converting mask to points it's best to first smooth it than remove some points. The smoothing avoids a choppy mask, while removing some points allows for more accurate angle calculation. See the LeftVentricleunorderedContour class for more. The contour extraction from the mask should also be done with cv2 CHAIN_APPROX_NONE rather than simple so the points will be evenly distributed.\n",
    "- Apex estimation is done based on distance from the basal points. Basal point estimation is done based on the angle change. The angle calculation can be seen by calling `lvc._get_basal_pts_from_contour(plot=True)` (example below). Note that points around the apex are masked out\n",
    "- `lvc.to_ordered_contour()` outputs a dictionary where each element is a set of points denoting the contour. By default this dict only contains the myocardium (\"myo\") but other parts (e.g. \"mv\" or \"all\") can also be extracted. See class for details."
   ]
  },
  {
   "cell_type": "code",
   "execution_count": null,
   "id": "3efcb0ac",
   "metadata": {
    "scrolled": false
   },
   "outputs": [],
   "source": [
    "f, axs = plt.subplots(6, 6, figsize=(15, 15))\n",
    "ind = 0\n",
    "r_ind = 0\n",
    "for fname in set(echonet_pts.FileName):\n",
    "    patient_df = echonet_pts[echonet_pts.FileName==fname]\n",
    "    for frame in set(patient_df.Frame):\n",
    "        frame_df = patient_df[patient_df.Frame == frame]\n",
    "        pts = np.array(frame_df.loc[:, \"X1\":\"Y2\"])\n",
    "        mask = echonet_trace_to_mask(pts, (256, 256))\n",
    "        lvc = LeftVentricleUnorderedContour(mask=mask)\n",
    "        lvc.plot(ax=axs[r_ind+0, ind])\n",
    "        axs[r_ind+0, ind].set_title(f\"contour ind {ind}\")\n",
    "        oc = lvc.to_ordered_contour(num_pts=12)[\"myo\"]\n",
    "        axs[r_ind+1, ind].plot(oc[0], oc[1], \"k-o\")\n",
    "        axs[r_ind+1, ind].set_title(f\"gcn pts ind {ind}\")\n",
    "        ind += 1\n",
    "    if ind >= axs.shape[1]:\n",
    "        ind = 0\n",
    "        r_ind += 2\n",
    "    if r_ind >= axs.shape[0]:\n",
    "        break\n",
    "for ax in axs.ravel():\n",
    "    ax.axis(\"off\")"
   ]
  },
  {
   "cell_type": "markdown",
   "id": "f5bc5ab1",
   "metadata": {},
   "source": [
    "In the above the points are not always evenly distributed, especially in the apex region. This still needs to be fixed.\n",
    "\n",
    "Also, note that the black point in the upper rows indicates the second point of the contour just to show which direction the contour is moving (it should be the same for all as this is forced in the class initialization)"
   ]
  },
  {
   "cell_type": "markdown",
   "id": "d2beb46b",
   "metadata": {},
   "source": [
    "# Example of how basal points are found\n",
    "mask masks out points around the apex (mask=1 means masked out)\n",
    "pt0_mask masks out points around the first basal point for calculation fo the second\n",
    "angles is the calculated angle of each vector between points"
   ]
  },
  {
   "cell_type": "code",
   "execution_count": 59,
   "id": "9efea7e1",
   "metadata": {},
   "outputs": [
    {
     "data": {
      "text/plain": [
       "(array([47.99721907, 76.99742137]), array([73.71710844, 74.35761088]))"
      ]
     },
     "execution_count": 59,
     "metadata": {},
     "output_type": "execute_result"
    },
    {
     "data": {
      "image/png": "[encoded data removed]",
      "text/plain": [
       "<Figure size 504x216 with 1 Axes>"
      ]
     },
     "metadata": {
      "needs_background": "light"
     },
     "output_type": "display_data"
    }
   ],
   "source": [
    "lvc._get_basal_pts_from_contour(plot=True)"
   ]
  },
  {
   "cell_type": "code",
   "execution_count": null,
   "id": "169e54ef",
   "metadata": {},
   "outputs": [],
   "source": []
  }
 ],
 "metadata": {
  "kernelspec": {
   "display_name": "Python 3",
   "language": "python",
   "name": "python3"
  },
  "language_info": {
   "codemirror_mode": {
    "name": "ipython",
    "version": 3
   },
   "file_extension": ".py",
   "mimetype": "text/x-python",
   "name": "python",
   "nbconvert_exporter": "python",
   "pygments_lexer": "ipython3",
   "version": "3.8.8"
  }
 },
 "nbformat": 4,
 "nbformat_minor": 5
}
